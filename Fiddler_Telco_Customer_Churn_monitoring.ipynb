{
  "cells": [
    {
      "cell_type": "markdown",
      "metadata": {
        "id": "view-in-github",
        "colab_type": "text"
      },
      "source": [
        "<a href=\"https://colab.research.google.com/github/shadowdesigner/Telco-Customer-Churn/blob/main/Fiddler_Telco_Customer_Churn_monitoring.ipynb\" target=\"_parent\"><img src=\"https://colab.research.google.com/assets/colab-badge.svg\" alt=\"Open In Colab\"/></a>"
      ]
    },
    {
      "cell_type": "markdown",
      "metadata": {
        "id": "sF3cOBoVx9Ji"
      },
      "source": [
        "# Fiddler Simple Monitoring Quick Start Guide\n",
        "\n",
        "## Goal\n",
        "\n",
        "This guide provides a comprehensive tour of Fiddler's monitoring capabilities, demonstrating how to onboard a binary classification model and then layer on advanced features like proactive alerts, custom business metrics, user-defined segments, and multiple baseline strategies. 🗺️\n",
        "\n",
        "## Deep Dive Into Fiddler's Monitoring and Analytic Capabilities\n",
        "\n",
        "This notebook serves as a comprehensive introduction to Fiddler's powerful monitoring toolkit, using a customer churn model as the example. After walking through the fundamental steps of onboarding a binary classification model, the guide demonstrates how to build a robust, production-grade monitoring setup. You'll learn how to configure proactive alerts for data quality and performance, translate model metrics into business impact with custom metrics, isolate specific cohorts with segments, and implement both static and rolling baselines for powerful drift analysis. This guide showcases how these features work together to provide a complete view of your model's health.\n",
        "\n",
        "## About Fiddler\n",
        "\n",
        "Fiddler is the all-in-one AI Observability and Security platform for responsible AI. Monitoring and analytics capabilities provide a common language, centralized controls, and actionable insights to operationalize production ML models, GenAI, AI agents, and LLM applications with trust. An integral part of the platform, the Fiddler Trust Service provides quality and moderation controls for LLM applications. Powered by cost-effective, task-specific, and scalable Fiddler-developed trust models — including cloud and VPC deployments for secure environments — it delivers the fastest guardrails in the industry. Fortune 500 organizations utilize Fiddler to scale LLM and ML deployments, delivering high-performance AI, reducing costs, and ensuring responsible governance."
      ]
    },
    {
      "cell_type": "markdown",
      "metadata": {
        "id": "s19QVyJqGzBK"
      },
      "source": [
        "### Getting Started\n",
        "\n",
        "1. Connect to Fiddler\n",
        "2. Load a Data Sample\n",
        "3. Define the Model Specifications\n",
        "4. Set the Model Task\n",
        "5. Create a Model\n",
        "6. Set Up Alerts **(Optional)**\n",
        "7. Create a Custom Metric **(Optional)**\n",
        "8. Create a Segment **(Optional)**\n",
        "9. Publish a Pre-production Baseline **(Optional)**\n",
        "10. Configure a Rolling Baseline **(Optional)**\n",
        "11. Publish Production Events"
      ]
    },
    {
      "cell_type": "markdown",
      "metadata": {
        "id": "wUZi_5s7wsGA"
      },
      "source": [
        "# 0. Imports"
      ]
    },
    {
      "cell_type": "code",
      "execution_count": 1,
      "metadata": {
        "id": "Pg-BdRJ4w3LM",
        "outputId": "6240b029-1649-41a1-b45f-4c9038a8a223",
        "colab": {
          "base_uri": "https://localhost:8080/"
        }
      },
      "outputs": [
        {
          "output_type": "stream",
          "name": "stdout",
          "text": [
            "\u001b[?25l   \u001b[90m━━━━━━━━━━━━━━━━━━━━━━━━━━━━━━━━━━━━━━━━\u001b[0m \u001b[32m0.0/201.0 kB\u001b[0m \u001b[31m?\u001b[0m eta \u001b[36m-:--:--\u001b[0m\r\u001b[2K   \u001b[90m━━━━━━━━━━━━━━━━━━━━━━━━━━━━━━━━━━━━━━━━\u001b[0m \u001b[32m201.0/201.0 kB\u001b[0m \u001b[31m8.6 MB/s\u001b[0m eta \u001b[36m0:00:00\u001b[0m\n",
            "\u001b[?25h\u001b[?25l   \u001b[90m━━━━━━━━━━━━━━━━━━━━━━━━━━━━━━━━━━━━━━━━\u001b[0m \u001b[32m0.0/88.0 kB\u001b[0m \u001b[31m?\u001b[0m eta \u001b[36m-:--:--\u001b[0m\r\u001b[2K   \u001b[90m━━━━━━━━━━━━━━━━━━━━━━━━━━━━━━━━━━━━━━━━\u001b[0m \u001b[32m88.0/88.0 kB\u001b[0m \u001b[31m5.2 MB/s\u001b[0m eta \u001b[36m0:00:00\u001b[0m\n",
            "\u001b[?25hRunning Fiddler Python client version 3.10.0\n"
          ]
        }
      ],
      "source": [
        "%pip install -q fiddler-client\n",
        "\n",
        "import time as time\n",
        "\n",
        "import pandas as pd\n",
        "import fiddler as fdl\n",
        "\n",
        "print(f'Running Fiddler Python client version {fdl.__version__}')"
      ]
    },
    {
      "cell_type": "markdown",
      "metadata": {
        "id": "hcP0yWfV1GoZ"
      },
      "source": [
        "## 1. Connect to Fiddler\n",
        "\n",
        "Before you can add information about your model with Fiddler, you'll need to connect using the Fiddler Python client.\n",
        "\n",
        "\n",
        "---\n",
        "\n",
        "\n",
        "**We need a couple pieces of information to get started.**\n",
        "1. The URL you're using to connect to Fiddler\n",
        "2. Your authorization token\n",
        "\n",
        "Your authorization token can be found by navigating to the **Credentials** tab on the **Settings** page of your Fiddler environment."
      ]
    },
    {
      "cell_type": "code",
      "execution_count": 5,
      "metadata": {
        "id": "CWErNsofAz6B"
      },
      "outputs": [],
      "source": [
        "URL = 'https://tech-exercise.cloud.fiddler.ai/'  # Make sure to include the full URL (including https:// e.g. 'https://your_company_name.fiddler.ai').\n",
        "TOKEN = 'tbZHTVFYS63Ilw0H0u64KNs0k3cQ9bmPVGaovfxcYg4'"
      ]
    },
    {
      "cell_type": "markdown",
      "metadata": {
        "id": "x6O_FmsBGzBN"
      },
      "source": [
        "Constants for this example notebook, change as needed to create your own versions"
      ]
    },
    {
      "cell_type": "code",
      "execution_count": 10,
      "metadata": {
        "id": "oSTn1z1kGzBN"
      },
      "outputs": [],
      "source": [
        "PROJECT_NAME = 'noah_tech_exercise'  # If the project already exists, the notebook will create the model under the existing project.\n",
        "MODEL_NAME = 'telco_customer_churn_monitoring'\n",
        "\n",
        "STATIC_BASELINE_NAME = 'baseline_dataset'\n",
        "ROLLING_BASELINE_NAME = 'rolling_baseline_1week'\n",
        "\n",
        "# Sample data hosted on GitHub\n",
        "PATH_TO_SAMPLE_CSV = 'https://raw.githubusercontent.com/shadowdesigner/Telco-Customer-Churn/refs/heads/main/WA_Fn-UseC_-Telco-Customer-Churn.csv'\n",
        "#PATH_TO_EVENTS_CSV = 'https://raw.githubusercontent.com/fiddler-labs/fiddler-examples/main/quickstart/data/v3/churn_production_data.csv'"
      ]
    },
    {
      "cell_type": "markdown",
      "metadata": {
        "id": "4EttApX9BBIn"
      },
      "source": [
        "Now just run the following to connect to your Fiddler environment."
      ]
    },
    {
      "cell_type": "code",
      "execution_count": 11,
      "metadata": {
        "id": "g6ONUHliBAsH"
      },
      "outputs": [],
      "source": [
        "fdl.init(url=URL, token=TOKEN)"
      ]
    },
    {
      "cell_type": "markdown",
      "metadata": {
        "id": "QpUHeE3dBTHD"
      },
      "source": [
        "#### 1.a Create New or Load Existing Project\n",
        "\n",
        "Once you connect, you can create a new project by specifying a unique project name in the fld.Project constructor and calling the `create()` method. If the project already exists, it will load it for use."
      ]
    },
    {
      "cell_type": "code",
      "execution_count": 13,
      "metadata": {
        "id": "vh46Mp1MBSMj",
        "outputId": "18b6c8b6-1735-465d-be4b-0c7630fc2d49",
        "colab": {
          "base_uri": "https://localhost:8080/"
        }
      },
      "outputs": [
        {
          "output_type": "stream",
          "name": "stdout",
          "text": [
            "Using project with id = 18930082-8f31-4537-bd7e-ba23a7112d84 and name = noah_tech_exercise\n"
          ]
        }
      ],
      "source": [
        "project = fdl.Project.get_or_create(name=PROJECT_NAME)\n",
        "\n",
        "print(f'Using project with id = {project.id} and name = {project.name}')"
      ]
    },
    {
      "cell_type": "markdown",
      "metadata": {
        "id": "tlp8zEvlqO8I"
      },
      "source": [
        "You should now be able to see the newly created project in the Fiddler UI."
      ]
    },
    {
      "cell_type": "markdown",
      "metadata": {
        "id": "NygDk2Pyjos4"
      },
      "source": [
        "<table>\n",
        "    <tr>\n",
        "        <td>\n",
        "            <img src=\"https://raw.githubusercontent.com/fiddler-labs/fiddler-examples/main/quickstart/images/simple_monitoring_1.png\" />\n",
        "        </td>\n",
        "    </tr>\n",
        "</table>"
      ]
    },
    {
      "cell_type": "markdown",
      "metadata": {
        "id": "V3V2EhIdwA_Q"
      },
      "source": [
        "## 2. Load a Data Sample\n",
        "\n",
        "In this example, we'll be considering the case where we're a bank and we have **a model that predicts churn for our customers**.\n",
        "  \n",
        "In order to get insights into the model's performance, **Fiddler needs a small sample of data** to learn the schema of incoming data."
      ]
    },
    {
      "cell_type": "code",
      "execution_count": 14,
      "metadata": {
        "id": "TFVJcU8uCY7z",
        "outputId": "14f12f3d-515b-4b33-dc9f-261f2c26ca2b",
        "colab": {
          "base_uri": "https://localhost:8080/",
          "height": 617
        }
      },
      "outputs": [
        {
          "output_type": "execute_result",
          "data": {
            "text/plain": [
              "      customerID  gender  SeniorCitizen Partner Dependents  tenure  \\\n",
              "0     7590-VHVEG  Female              0     Yes         No       1   \n",
              "1     5575-GNVDE    Male              0      No         No      34   \n",
              "2     3668-QPYBK    Male              0      No         No       2   \n",
              "3     7795-CFOCW    Male              0      No         No      45   \n",
              "4     9237-HQITU  Female              0      No         No       2   \n",
              "...          ...     ...            ...     ...        ...     ...   \n",
              "7038  6840-RESVB    Male              0     Yes        Yes      24   \n",
              "7039  2234-XADUH  Female              0     Yes        Yes      72   \n",
              "7040  4801-JZAZL  Female              0     Yes        Yes      11   \n",
              "7041  8361-LTMKD    Male              1     Yes         No       4   \n",
              "7042  3186-AJIEK    Male              0      No         No      66   \n",
              "\n",
              "     PhoneService     MultipleLines InternetService OnlineSecurity  ...  \\\n",
              "0              No  No phone service             DSL             No  ...   \n",
              "1             Yes                No             DSL            Yes  ...   \n",
              "2             Yes                No             DSL            Yes  ...   \n",
              "3              No  No phone service             DSL            Yes  ...   \n",
              "4             Yes                No     Fiber optic             No  ...   \n",
              "...           ...               ...             ...            ...  ...   \n",
              "7038          Yes               Yes             DSL            Yes  ...   \n",
              "7039          Yes               Yes     Fiber optic             No  ...   \n",
              "7040           No  No phone service             DSL            Yes  ...   \n",
              "7041          Yes               Yes     Fiber optic             No  ...   \n",
              "7042          Yes                No     Fiber optic            Yes  ...   \n",
              "\n",
              "     DeviceProtection TechSupport StreamingTV StreamingMovies        Contract  \\\n",
              "0                  No          No          No              No  Month-to-month   \n",
              "1                 Yes          No          No              No        One year   \n",
              "2                  No          No          No              No  Month-to-month   \n",
              "3                 Yes         Yes          No              No        One year   \n",
              "4                  No          No          No              No  Month-to-month   \n",
              "...               ...         ...         ...             ...             ...   \n",
              "7038              Yes         Yes         Yes             Yes        One year   \n",
              "7039              Yes          No         Yes             Yes        One year   \n",
              "7040               No          No          No              No  Month-to-month   \n",
              "7041               No          No          No              No  Month-to-month   \n",
              "7042              Yes         Yes         Yes             Yes        Two year   \n",
              "\n",
              "     PaperlessBilling              PaymentMethod MonthlyCharges  TotalCharges  \\\n",
              "0                 Yes           Electronic check          29.85         29.85   \n",
              "1                  No               Mailed check          56.95        1889.5   \n",
              "2                 Yes               Mailed check          53.85        108.15   \n",
              "3                  No  Bank transfer (automatic)          42.30       1840.75   \n",
              "4                 Yes           Electronic check          70.70        151.65   \n",
              "...               ...                        ...            ...           ...   \n",
              "7038              Yes               Mailed check          84.80        1990.5   \n",
              "7039              Yes    Credit card (automatic)         103.20        7362.9   \n",
              "7040              Yes           Electronic check          29.60        346.45   \n",
              "7041              Yes               Mailed check          74.40         306.6   \n",
              "7042              Yes  Bank transfer (automatic)         105.65        6844.5   \n",
              "\n",
              "     Churn  \n",
              "0       No  \n",
              "1       No  \n",
              "2      Yes  \n",
              "3       No  \n",
              "4      Yes  \n",
              "...    ...  \n",
              "7038    No  \n",
              "7039    No  \n",
              "7040    No  \n",
              "7041   Yes  \n",
              "7042    No  \n",
              "\n",
              "[7043 rows x 21 columns]"
            ],
            "text/html": [
              "\n",
              "  <div id=\"df-5961ed64-b69a-4b3d-ab68-b0c92bf2f7cf\" class=\"colab-df-container\">\n",
              "    <div>\n",
              "<style scoped>\n",
              "    .dataframe tbody tr th:only-of-type {\n",
              "        vertical-align: middle;\n",
              "    }\n",
              "\n",
              "    .dataframe tbody tr th {\n",
              "        vertical-align: top;\n",
              "    }\n",
              "\n",
              "    .dataframe thead th {\n",
              "        text-align: right;\n",
              "    }\n",
              "</style>\n",
              "<table border=\"1\" class=\"dataframe\">\n",
              "  <thead>\n",
              "    <tr style=\"text-align: right;\">\n",
              "      <th></th>\n",
              "      <th>customerID</th>\n",
              "      <th>gender</th>\n",
              "      <th>SeniorCitizen</th>\n",
              "      <th>Partner</th>\n",
              "      <th>Dependents</th>\n",
              "      <th>tenure</th>\n",
              "      <th>PhoneService</th>\n",
              "      <th>MultipleLines</th>\n",
              "      <th>InternetService</th>\n",
              "      <th>OnlineSecurity</th>\n",
              "      <th>...</th>\n",
              "      <th>DeviceProtection</th>\n",
              "      <th>TechSupport</th>\n",
              "      <th>StreamingTV</th>\n",
              "      <th>StreamingMovies</th>\n",
              "      <th>Contract</th>\n",
              "      <th>PaperlessBilling</th>\n",
              "      <th>PaymentMethod</th>\n",
              "      <th>MonthlyCharges</th>\n",
              "      <th>TotalCharges</th>\n",
              "      <th>Churn</th>\n",
              "    </tr>\n",
              "  </thead>\n",
              "  <tbody>\n",
              "    <tr>\n",
              "      <th>0</th>\n",
              "      <td>7590-VHVEG</td>\n",
              "      <td>Female</td>\n",
              "      <td>0</td>\n",
              "      <td>Yes</td>\n",
              "      <td>No</td>\n",
              "      <td>1</td>\n",
              "      <td>No</td>\n",
              "      <td>No phone service</td>\n",
              "      <td>DSL</td>\n",
              "      <td>No</td>\n",
              "      <td>...</td>\n",
              "      <td>No</td>\n",
              "      <td>No</td>\n",
              "      <td>No</td>\n",
              "      <td>No</td>\n",
              "      <td>Month-to-month</td>\n",
              "      <td>Yes</td>\n",
              "      <td>Electronic check</td>\n",
              "      <td>29.85</td>\n",
              "      <td>29.85</td>\n",
              "      <td>No</td>\n",
              "    </tr>\n",
              "    <tr>\n",
              "      <th>1</th>\n",
              "      <td>5575-GNVDE</td>\n",
              "      <td>Male</td>\n",
              "      <td>0</td>\n",
              "      <td>No</td>\n",
              "      <td>No</td>\n",
              "      <td>34</td>\n",
              "      <td>Yes</td>\n",
              "      <td>No</td>\n",
              "      <td>DSL</td>\n",
              "      <td>Yes</td>\n",
              "      <td>...</td>\n",
              "      <td>Yes</td>\n",
              "      <td>No</td>\n",
              "      <td>No</td>\n",
              "      <td>No</td>\n",
              "      <td>One year</td>\n",
              "      <td>No</td>\n",
              "      <td>Mailed check</td>\n",
              "      <td>56.95</td>\n",
              "      <td>1889.5</td>\n",
              "      <td>No</td>\n",
              "    </tr>\n",
              "    <tr>\n",
              "      <th>2</th>\n",
              "      <td>3668-QPYBK</td>\n",
              "      <td>Male</td>\n",
              "      <td>0</td>\n",
              "      <td>No</td>\n",
              "      <td>No</td>\n",
              "      <td>2</td>\n",
              "      <td>Yes</td>\n",
              "      <td>No</td>\n",
              "      <td>DSL</td>\n",
              "      <td>Yes</td>\n",
              "      <td>...</td>\n",
              "      <td>No</td>\n",
              "      <td>No</td>\n",
              "      <td>No</td>\n",
              "      <td>No</td>\n",
              "      <td>Month-to-month</td>\n",
              "      <td>Yes</td>\n",
              "      <td>Mailed check</td>\n",
              "      <td>53.85</td>\n",
              "      <td>108.15</td>\n",
              "      <td>Yes</td>\n",
              "    </tr>\n",
              "    <tr>\n",
              "      <th>3</th>\n",
              "      <td>7795-CFOCW</td>\n",
              "      <td>Male</td>\n",
              "      <td>0</td>\n",
              "      <td>No</td>\n",
              "      <td>No</td>\n",
              "      <td>45</td>\n",
              "      <td>No</td>\n",
              "      <td>No phone service</td>\n",
              "      <td>DSL</td>\n",
              "      <td>Yes</td>\n",
              "      <td>...</td>\n",
              "      <td>Yes</td>\n",
              "      <td>Yes</td>\n",
              "      <td>No</td>\n",
              "      <td>No</td>\n",
              "      <td>One year</td>\n",
              "      <td>No</td>\n",
              "      <td>Bank transfer (automatic)</td>\n",
              "      <td>42.30</td>\n",
              "      <td>1840.75</td>\n",
              "      <td>No</td>\n",
              "    </tr>\n",
              "    <tr>\n",
              "      <th>4</th>\n",
              "      <td>9237-HQITU</td>\n",
              "      <td>Female</td>\n",
              "      <td>0</td>\n",
              "      <td>No</td>\n",
              "      <td>No</td>\n",
              "      <td>2</td>\n",
              "      <td>Yes</td>\n",
              "      <td>No</td>\n",
              "      <td>Fiber optic</td>\n",
              "      <td>No</td>\n",
              "      <td>...</td>\n",
              "      <td>No</td>\n",
              "      <td>No</td>\n",
              "      <td>No</td>\n",
              "      <td>No</td>\n",
              "      <td>Month-to-month</td>\n",
              "      <td>Yes</td>\n",
              "      <td>Electronic check</td>\n",
              "      <td>70.70</td>\n",
              "      <td>151.65</td>\n",
              "      <td>Yes</td>\n",
              "    </tr>\n",
              "    <tr>\n",
              "      <th>...</th>\n",
              "      <td>...</td>\n",
              "      <td>...</td>\n",
              "      <td>...</td>\n",
              "      <td>...</td>\n",
              "      <td>...</td>\n",
              "      <td>...</td>\n",
              "      <td>...</td>\n",
              "      <td>...</td>\n",
              "      <td>...</td>\n",
              "      <td>...</td>\n",
              "      <td>...</td>\n",
              "      <td>...</td>\n",
              "      <td>...</td>\n",
              "      <td>...</td>\n",
              "      <td>...</td>\n",
              "      <td>...</td>\n",
              "      <td>...</td>\n",
              "      <td>...</td>\n",
              "      <td>...</td>\n",
              "      <td>...</td>\n",
              "      <td>...</td>\n",
              "    </tr>\n",
              "    <tr>\n",
              "      <th>7038</th>\n",
              "      <td>6840-RESVB</td>\n",
              "      <td>Male</td>\n",
              "      <td>0</td>\n",
              "      <td>Yes</td>\n",
              "      <td>Yes</td>\n",
              "      <td>24</td>\n",
              "      <td>Yes</td>\n",
              "      <td>Yes</td>\n",
              "      <td>DSL</td>\n",
              "      <td>Yes</td>\n",
              "      <td>...</td>\n",
              "      <td>Yes</td>\n",
              "      <td>Yes</td>\n",
              "      <td>Yes</td>\n",
              "      <td>Yes</td>\n",
              "      <td>One year</td>\n",
              "      <td>Yes</td>\n",
              "      <td>Mailed check</td>\n",
              "      <td>84.80</td>\n",
              "      <td>1990.5</td>\n",
              "      <td>No</td>\n",
              "    </tr>\n",
              "    <tr>\n",
              "      <th>7039</th>\n",
              "      <td>2234-XADUH</td>\n",
              "      <td>Female</td>\n",
              "      <td>0</td>\n",
              "      <td>Yes</td>\n",
              "      <td>Yes</td>\n",
              "      <td>72</td>\n",
              "      <td>Yes</td>\n",
              "      <td>Yes</td>\n",
              "      <td>Fiber optic</td>\n",
              "      <td>No</td>\n",
              "      <td>...</td>\n",
              "      <td>Yes</td>\n",
              "      <td>No</td>\n",
              "      <td>Yes</td>\n",
              "      <td>Yes</td>\n",
              "      <td>One year</td>\n",
              "      <td>Yes</td>\n",
              "      <td>Credit card (automatic)</td>\n",
              "      <td>103.20</td>\n",
              "      <td>7362.9</td>\n",
              "      <td>No</td>\n",
              "    </tr>\n",
              "    <tr>\n",
              "      <th>7040</th>\n",
              "      <td>4801-JZAZL</td>\n",
              "      <td>Female</td>\n",
              "      <td>0</td>\n",
              "      <td>Yes</td>\n",
              "      <td>Yes</td>\n",
              "      <td>11</td>\n",
              "      <td>No</td>\n",
              "      <td>No phone service</td>\n",
              "      <td>DSL</td>\n",
              "      <td>Yes</td>\n",
              "      <td>...</td>\n",
              "      <td>No</td>\n",
              "      <td>No</td>\n",
              "      <td>No</td>\n",
              "      <td>No</td>\n",
              "      <td>Month-to-month</td>\n",
              "      <td>Yes</td>\n",
              "      <td>Electronic check</td>\n",
              "      <td>29.60</td>\n",
              "      <td>346.45</td>\n",
              "      <td>No</td>\n",
              "    </tr>\n",
              "    <tr>\n",
              "      <th>7041</th>\n",
              "      <td>8361-LTMKD</td>\n",
              "      <td>Male</td>\n",
              "      <td>1</td>\n",
              "      <td>Yes</td>\n",
              "      <td>No</td>\n",
              "      <td>4</td>\n",
              "      <td>Yes</td>\n",
              "      <td>Yes</td>\n",
              "      <td>Fiber optic</td>\n",
              "      <td>No</td>\n",
              "      <td>...</td>\n",
              "      <td>No</td>\n",
              "      <td>No</td>\n",
              "      <td>No</td>\n",
              "      <td>No</td>\n",
              "      <td>Month-to-month</td>\n",
              "      <td>Yes</td>\n",
              "      <td>Mailed check</td>\n",
              "      <td>74.40</td>\n",
              "      <td>306.6</td>\n",
              "      <td>Yes</td>\n",
              "    </tr>\n",
              "    <tr>\n",
              "      <th>7042</th>\n",
              "      <td>3186-AJIEK</td>\n",
              "      <td>Male</td>\n",
              "      <td>0</td>\n",
              "      <td>No</td>\n",
              "      <td>No</td>\n",
              "      <td>66</td>\n",
              "      <td>Yes</td>\n",
              "      <td>No</td>\n",
              "      <td>Fiber optic</td>\n",
              "      <td>Yes</td>\n",
              "      <td>...</td>\n",
              "      <td>Yes</td>\n",
              "      <td>Yes</td>\n",
              "      <td>Yes</td>\n",
              "      <td>Yes</td>\n",
              "      <td>Two year</td>\n",
              "      <td>Yes</td>\n",
              "      <td>Bank transfer (automatic)</td>\n",
              "      <td>105.65</td>\n",
              "      <td>6844.5</td>\n",
              "      <td>No</td>\n",
              "    </tr>\n",
              "  </tbody>\n",
              "</table>\n",
              "<p>7043 rows × 21 columns</p>\n",
              "</div>\n",
              "    <div class=\"colab-df-buttons\">\n",
              "\n",
              "  <div class=\"colab-df-container\">\n",
              "    <button class=\"colab-df-convert\" onclick=\"convertToInteractive('df-5961ed64-b69a-4b3d-ab68-b0c92bf2f7cf')\"\n",
              "            title=\"Convert this dataframe to an interactive table.\"\n",
              "            style=\"display:none;\">\n",
              "\n",
              "  <svg xmlns=\"http://www.w3.org/2000/svg\" height=\"24px\" viewBox=\"0 -960 960 960\">\n",
              "    <path d=\"M120-120v-720h720v720H120Zm60-500h600v-160H180v160Zm220 220h160v-160H400v160Zm0 220h160v-160H400v160ZM180-400h160v-160H180v160Zm440 0h160v-160H620v160ZM180-180h160v-160H180v160Zm440 0h160v-160H620v160Z\"/>\n",
              "  </svg>\n",
              "    </button>\n",
              "\n",
              "  <style>\n",
              "    .colab-df-container {\n",
              "      display:flex;\n",
              "      gap: 12px;\n",
              "    }\n",
              "\n",
              "    .colab-df-convert {\n",
              "      background-color: #E8F0FE;\n",
              "      border: none;\n",
              "      border-radius: 50%;\n",
              "      cursor: pointer;\n",
              "      display: none;\n",
              "      fill: #1967D2;\n",
              "      height: 32px;\n",
              "      padding: 0 0 0 0;\n",
              "      width: 32px;\n",
              "    }\n",
              "\n",
              "    .colab-df-convert:hover {\n",
              "      background-color: #E2EBFA;\n",
              "      box-shadow: 0px 1px 2px rgba(60, 64, 67, 0.3), 0px 1px 3px 1px rgba(60, 64, 67, 0.15);\n",
              "      fill: #174EA6;\n",
              "    }\n",
              "\n",
              "    .colab-df-buttons div {\n",
              "      margin-bottom: 4px;\n",
              "    }\n",
              "\n",
              "    [theme=dark] .colab-df-convert {\n",
              "      background-color: #3B4455;\n",
              "      fill: #D2E3FC;\n",
              "    }\n",
              "\n",
              "    [theme=dark] .colab-df-convert:hover {\n",
              "      background-color: #434B5C;\n",
              "      box-shadow: 0px 1px 3px 1px rgba(0, 0, 0, 0.15);\n",
              "      filter: drop-shadow(0px 1px 2px rgba(0, 0, 0, 0.3));\n",
              "      fill: #FFFFFF;\n",
              "    }\n",
              "  </style>\n",
              "\n",
              "    <script>\n",
              "      const buttonEl =\n",
              "        document.querySelector('#df-5961ed64-b69a-4b3d-ab68-b0c92bf2f7cf button.colab-df-convert');\n",
              "      buttonEl.style.display =\n",
              "        google.colab.kernel.accessAllowed ? 'block' : 'none';\n",
              "\n",
              "      async function convertToInteractive(key) {\n",
              "        const element = document.querySelector('#df-5961ed64-b69a-4b3d-ab68-b0c92bf2f7cf');\n",
              "        const dataTable =\n",
              "          await google.colab.kernel.invokeFunction('convertToInteractive',\n",
              "                                                    [key], {});\n",
              "        if (!dataTable) return;\n",
              "\n",
              "        const docLinkHtml = 'Like what you see? Visit the ' +\n",
              "          '<a target=\"_blank\" href=https://colab.research.google.com/notebooks/data_table.ipynb>data table notebook</a>'\n",
              "          + ' to learn more about interactive tables.';\n",
              "        element.innerHTML = '';\n",
              "        dataTable['output_type'] = 'display_data';\n",
              "        await google.colab.output.renderOutput(dataTable, element);\n",
              "        const docLink = document.createElement('div');\n",
              "        docLink.innerHTML = docLinkHtml;\n",
              "        element.appendChild(docLink);\n",
              "      }\n",
              "    </script>\n",
              "  </div>\n",
              "\n",
              "\n",
              "    <div id=\"df-371671f3-d832-401e-afdc-1694c05d0a13\">\n",
              "      <button class=\"colab-df-quickchart\" onclick=\"quickchart('df-371671f3-d832-401e-afdc-1694c05d0a13')\"\n",
              "                title=\"Suggest charts\"\n",
              "                style=\"display:none;\">\n",
              "\n",
              "<svg xmlns=\"http://www.w3.org/2000/svg\" height=\"24px\"viewBox=\"0 0 24 24\"\n",
              "     width=\"24px\">\n",
              "    <g>\n",
              "        <path d=\"M19 3H5c-1.1 0-2 .9-2 2v14c0 1.1.9 2 2 2h14c1.1 0 2-.9 2-2V5c0-1.1-.9-2-2-2zM9 17H7v-7h2v7zm4 0h-2V7h2v10zm4 0h-2v-4h2v4z\"/>\n",
              "    </g>\n",
              "</svg>\n",
              "      </button>\n",
              "\n",
              "<style>\n",
              "  .colab-df-quickchart {\n",
              "      --bg-color: #E8F0FE;\n",
              "      --fill-color: #1967D2;\n",
              "      --hover-bg-color: #E2EBFA;\n",
              "      --hover-fill-color: #174EA6;\n",
              "      --disabled-fill-color: #AAA;\n",
              "      --disabled-bg-color: #DDD;\n",
              "  }\n",
              "\n",
              "  [theme=dark] .colab-df-quickchart {\n",
              "      --bg-color: #3B4455;\n",
              "      --fill-color: #D2E3FC;\n",
              "      --hover-bg-color: #434B5C;\n",
              "      --hover-fill-color: #FFFFFF;\n",
              "      --disabled-bg-color: #3B4455;\n",
              "      --disabled-fill-color: #666;\n",
              "  }\n",
              "\n",
              "  .colab-df-quickchart {\n",
              "    background-color: var(--bg-color);\n",
              "    border: none;\n",
              "    border-radius: 50%;\n",
              "    cursor: pointer;\n",
              "    display: none;\n",
              "    fill: var(--fill-color);\n",
              "    height: 32px;\n",
              "    padding: 0;\n",
              "    width: 32px;\n",
              "  }\n",
              "\n",
              "  .colab-df-quickchart:hover {\n",
              "    background-color: var(--hover-bg-color);\n",
              "    box-shadow: 0 1px 2px rgba(60, 64, 67, 0.3), 0 1px 3px 1px rgba(60, 64, 67, 0.15);\n",
              "    fill: var(--button-hover-fill-color);\n",
              "  }\n",
              "\n",
              "  .colab-df-quickchart-complete:disabled,\n",
              "  .colab-df-quickchart-complete:disabled:hover {\n",
              "    background-color: var(--disabled-bg-color);\n",
              "    fill: var(--disabled-fill-color);\n",
              "    box-shadow: none;\n",
              "  }\n",
              "\n",
              "  .colab-df-spinner {\n",
              "    border: 2px solid var(--fill-color);\n",
              "    border-color: transparent;\n",
              "    border-bottom-color: var(--fill-color);\n",
              "    animation:\n",
              "      spin 1s steps(1) infinite;\n",
              "  }\n",
              "\n",
              "  @keyframes spin {\n",
              "    0% {\n",
              "      border-color: transparent;\n",
              "      border-bottom-color: var(--fill-color);\n",
              "      border-left-color: var(--fill-color);\n",
              "    }\n",
              "    20% {\n",
              "      border-color: transparent;\n",
              "      border-left-color: var(--fill-color);\n",
              "      border-top-color: var(--fill-color);\n",
              "    }\n",
              "    30% {\n",
              "      border-color: transparent;\n",
              "      border-left-color: var(--fill-color);\n",
              "      border-top-color: var(--fill-color);\n",
              "      border-right-color: var(--fill-color);\n",
              "    }\n",
              "    40% {\n",
              "      border-color: transparent;\n",
              "      border-right-color: var(--fill-color);\n",
              "      border-top-color: var(--fill-color);\n",
              "    }\n",
              "    60% {\n",
              "      border-color: transparent;\n",
              "      border-right-color: var(--fill-color);\n",
              "    }\n",
              "    80% {\n",
              "      border-color: transparent;\n",
              "      border-right-color: var(--fill-color);\n",
              "      border-bottom-color: var(--fill-color);\n",
              "    }\n",
              "    90% {\n",
              "      border-color: transparent;\n",
              "      border-bottom-color: var(--fill-color);\n",
              "    }\n",
              "  }\n",
              "</style>\n",
              "\n",
              "      <script>\n",
              "        async function quickchart(key) {\n",
              "          const quickchartButtonEl =\n",
              "            document.querySelector('#' + key + ' button');\n",
              "          quickchartButtonEl.disabled = true;  // To prevent multiple clicks.\n",
              "          quickchartButtonEl.classList.add('colab-df-spinner');\n",
              "          try {\n",
              "            const charts = await google.colab.kernel.invokeFunction(\n",
              "                'suggestCharts', [key], {});\n",
              "          } catch (error) {\n",
              "            console.error('Error during call to suggestCharts:', error);\n",
              "          }\n",
              "          quickchartButtonEl.classList.remove('colab-df-spinner');\n",
              "          quickchartButtonEl.classList.add('colab-df-quickchart-complete');\n",
              "        }\n",
              "        (() => {\n",
              "          let quickchartButtonEl =\n",
              "            document.querySelector('#df-371671f3-d832-401e-afdc-1694c05d0a13 button');\n",
              "          quickchartButtonEl.style.display =\n",
              "            google.colab.kernel.accessAllowed ? 'block' : 'none';\n",
              "        })();\n",
              "      </script>\n",
              "    </div>\n",
              "\n",
              "  <div id=\"id_07ed01af-3d0b-4f02-b08f-9899ed920e6b\">\n",
              "    <style>\n",
              "      .colab-df-generate {\n",
              "        background-color: #E8F0FE;\n",
              "        border: none;\n",
              "        border-radius: 50%;\n",
              "        cursor: pointer;\n",
              "        display: none;\n",
              "        fill: #1967D2;\n",
              "        height: 32px;\n",
              "        padding: 0 0 0 0;\n",
              "        width: 32px;\n",
              "      }\n",
              "\n",
              "      .colab-df-generate:hover {\n",
              "        background-color: #E2EBFA;\n",
              "        box-shadow: 0px 1px 2px rgba(60, 64, 67, 0.3), 0px 1px 3px 1px rgba(60, 64, 67, 0.15);\n",
              "        fill: #174EA6;\n",
              "      }\n",
              "\n",
              "      [theme=dark] .colab-df-generate {\n",
              "        background-color: #3B4455;\n",
              "        fill: #D2E3FC;\n",
              "      }\n",
              "\n",
              "      [theme=dark] .colab-df-generate:hover {\n",
              "        background-color: #434B5C;\n",
              "        box-shadow: 0px 1px 3px 1px rgba(0, 0, 0, 0.15);\n",
              "        filter: drop-shadow(0px 1px 2px rgba(0, 0, 0, 0.3));\n",
              "        fill: #FFFFFF;\n",
              "      }\n",
              "    </style>\n",
              "    <button class=\"colab-df-generate\" onclick=\"generateWithVariable('sample_data_df')\"\n",
              "            title=\"Generate code using this dataframe.\"\n",
              "            style=\"display:none;\">\n",
              "\n",
              "  <svg xmlns=\"http://www.w3.org/2000/svg\" height=\"24px\"viewBox=\"0 0 24 24\"\n",
              "       width=\"24px\">\n",
              "    <path d=\"M7,19H8.4L18.45,9,17,7.55,7,17.6ZM5,21V16.75L18.45,3.32a2,2,0,0,1,2.83,0l1.4,1.43a1.91,1.91,0,0,1,.58,1.4,1.91,1.91,0,0,1-.58,1.4L9.25,21ZM18.45,9,17,7.55Zm-12,3A5.31,5.31,0,0,0,4.9,8.1,5.31,5.31,0,0,0,1,6.5,5.31,5.31,0,0,0,4.9,4.9,5.31,5.31,0,0,0,6.5,1,5.31,5.31,0,0,0,8.1,4.9,5.31,5.31,0,0,0,12,6.5,5.46,5.46,0,0,0,6.5,12Z\"/>\n",
              "  </svg>\n",
              "    </button>\n",
              "    <script>\n",
              "      (() => {\n",
              "      const buttonEl =\n",
              "        document.querySelector('#id_07ed01af-3d0b-4f02-b08f-9899ed920e6b button.colab-df-generate');\n",
              "      buttonEl.style.display =\n",
              "        google.colab.kernel.accessAllowed ? 'block' : 'none';\n",
              "\n",
              "      buttonEl.onclick = () => {\n",
              "        google.colab.notebook.generateWithVariable('sample_data_df');\n",
              "      }\n",
              "      })();\n",
              "    </script>\n",
              "  </div>\n",
              "\n",
              "    </div>\n",
              "  </div>\n"
            ],
            "application/vnd.google.colaboratory.intrinsic+json": {
              "type": "dataframe",
              "variable_name": "sample_data_df"
            }
          },
          "metadata": {},
          "execution_count": 14
        }
      ],
      "source": [
        "sample_data_df = pd.read_csv(PATH_TO_SAMPLE_CSV)\n",
        "column_list  = sample_data_df.columns\n",
        "sample_data_df"
      ]
    },
    {
      "cell_type": "markdown",
      "metadata": {
        "id": "IK3sL73_4FxO"
      },
      "source": [
        "## 3. Define the Model Specifications\n",
        "\n",
        "In order to create a model in Fiddler, create a ModelSpec object with information about what each column of your data sample should used for.\n",
        "\n",
        "Fiddler supports four column types:\n",
        "1. **Inputs**\n",
        "2. **Outputs** (Model predictions)\n",
        "3. **Target** (Ground truth values)\n",
        "4. **Metadata**"
      ]
    },
    {
      "cell_type": "code",
      "execution_count": 17,
      "metadata": {
        "id": "nRi5V_QsGzBQ"
      },
      "outputs": [],
      "source": [
        "input_columns = list(\n",
        "    #column_list.drop(['predicted_churn', 'churn', 'customer_id', 'timestamp'])\n",
        "    column_list.drop(['MonthlyCharges', 'Churn', 'customerID', 'tenure'])\n",
        ")"
      ]
    },
    {
      "cell_type": "code",
      "execution_count": 20,
      "metadata": {
        "id": "wqyBTZn3NJPU"
      },
      "outputs": [],
      "source": [
        "model_spec = fdl.ModelSpec(\n",
        "    inputs=input_columns,\n",
        "    outputs=['MonthlyCharges'],\n",
        "    targets=['Churn'],  # Note: only a single Target column is allowed, use metadata columns and custom metrics for additional targets\n",
        "    metadata=['customerID', 'tenure'],\n",
        ")"
      ]
    },
    {
      "cell_type": "markdown",
      "metadata": {
        "id": "NJnGYRMeGzBQ"
      },
      "source": [
        "If you have columns in your ModelSpec which denote **prediction IDs or timestamps**, then Fiddler can use these to power its analytics accordingly.\n",
        "\n",
        "Let's call them out here and use them when configuring the Model in step 5."
      ]
    },
    {
      "cell_type": "code",
      "execution_count": 22,
      "metadata": {
        "id": "9coEUW5lGzBQ"
      },
      "outputs": [],
      "source": [
        "id_column = 'customerID'\n",
        "timestamp_column = 'tenure'"
      ]
    },
    {
      "cell_type": "markdown",
      "metadata": {
        "id": "wtStfUQmGzBQ"
      },
      "source": [
        "## 4. Set the Model Task\n",
        "\n",
        "Fiddler supports a variety of model tasks. In this case, we're adding a binary classification model.\n",
        "\n",
        "For this, we'll create a ModelTask object and an additional ModelTaskParams object to specify the ordering of our positive and negative labels.\n",
        "\n",
        "*For a detailed breakdown of all supported model tasks, click [here](https://docs.fiddler.ai/technical-reference/python-client-guides/explainability/model-task-examples).*"
      ]
    },
    {
      "cell_type": "code",
      "execution_count": 25,
      "metadata": {
        "id": "3B-Op-t_GzBR"
      },
      "outputs": [],
      "source": [
        "model_task = fdl.ModelTask.BINARY_CLASSIFICATION\n",
        "\n",
        "task_params = fdl.ModelTaskParams(target_class_order=['No', 'Yes'])"
      ]
    },
    {
      "cell_type": "markdown",
      "metadata": {
        "id": "TglC6gkVGzBR"
      },
      "source": [
        "## 5. Create a Model\n",
        "\n",
        "Create a Model object and publish it to Fiddler, passing in\n",
        "1. Your data sample\n",
        "2. The ModelSpec object\n",
        "3. The ModelTask and ModelTaskParams objects\n",
        "4. The ID and timestamp columns"
      ]
    },
    {
      "cell_type": "code",
      "execution_count": 26,
      "metadata": {
        "id": "UnO4mZGEGzBR",
        "outputId": "3d715488-32f2-4540-da20-5f8858e21a36",
        "colab": {
          "base_uri": "https://localhost:8080/"
        }
      },
      "outputs": [
        {
          "output_type": "stream",
          "name": "stdout",
          "text": [
            "New model created with id = 5753f20c-1b7d-4a3f-ab94-aeaf7b537aea and name = telco_customer_churn_monitoring\n"
          ]
        }
      ],
      "source": [
        "model = fdl.Model.from_data(\n",
        "    name=MODEL_NAME,\n",
        "    project_id=project.id,\n",
        "    source=sample_data_df,\n",
        "    spec=model_spec,\n",
        "    task=model_task,\n",
        "    task_params=task_params,\n",
        "    event_id_col=id_column,\n",
        "    event_ts_col=timestamp_column,\n",
        ")\n",
        "\n",
        "model.create()\n",
        "print(f'New model created with id = {model.id} and name = {model.name}')"
      ]
    },
    {
      "cell_type": "markdown",
      "metadata": {
        "id": "0GmqFXTYwRg6"
      },
      "source": [
        "On the project page, you should now be able to see the newly onboarded model with its model schema."
      ]
    },
    {
      "cell_type": "markdown",
      "metadata": {
        "id": "wbaDq7wZjos8"
      },
      "source": [
        "<table>\n",
        "    <tr>\n",
        "        <td>\n",
        "            <img src=\"https://github.com/fiddler-labs/fiddler-examples/blob/main/quickstart/images/simple_monitoring_3.png?raw=true\" />\n",
        "        </td>\n",
        "    </tr>\n",
        "</table>"
      ]
    },
    {
      "cell_type": "markdown",
      "metadata": {
        "id": "Ed1_OS6ajos8"
      },
      "source": [
        "<table>\n",
        "    <tr>\n",
        "        <td>\n",
        "            <img src=\"https://github.com/fiddler-labs/fiddler-examples/blob/main/quickstart/images/simple_monitoring_4.png?raw=true\" />\n",
        "        </td>\n",
        "    </tr>\n",
        "</table>"
      ]
    },
    {
      "cell_type": "markdown",
      "metadata": {
        "id": "R-hj33B10Ssw"
      },
      "source": [
        "## 6. Set Up Alerts (Optional)\n",
        "\n",
        "Fiddler allows creating alerting rules when your data or model predictions deviate from expected behavior.\n",
        "\n",
        "The alert rules can compare metrics to **absolute** or **relative** values.\n",
        "\n",
        "Please refer to [our documentation](https://docs.fiddler.ai/technical-reference/python-client-guides/alerts-with-fiddler-client) for more information on Alert Rules.\n",
        "\n",
        "---\n",
        "  \n",
        "Let's set up some alert rules.\n",
        "\n",
        "The following API call sets up a Data Integrity type rule which triggers an email notification when published events have 2 or more range violations in any 1 day bin for the `numofproducts` column."
      ]
    },
    {
      "cell_type": "code",
      "execution_count": 27,
      "metadata": {
        "id": "_M9F22O621Ec",
        "outputId": "feef4728-c979-4356-d994-1da4f1753fae",
        "colab": {
          "base_uri": "https://localhost:8080/"
        }
      },
      "outputs": [
        {
          "output_type": "stream",
          "name": "stdout",
          "text": [
            "New alert rule created with id = d496dbe0-398c-4aa2-809e-6192d114b962 and name = Telco Churn Range Violation Alert\n"
          ]
        },
        {
          "output_type": "execute_result",
          "data": {
            "text/plain": [
              "NotificationConfig(emails=['name@google.com'], pagerduty_services=[], pagerduty_severity='', webhooks=[])"
            ]
          },
          "metadata": {},
          "execution_count": 27
        }
      ],
      "source": [
        "alert_rule_1 = fdl.AlertRule(\n",
        "    name='Telco Churn Range Violation Alert',\n",
        "    model_id=model.id,\n",
        "    metric_id='range_violation_count',\n",
        "    bin_size=fdl.BinSize.DAY,\n",
        "    compare_to=fdl.CompareTo.RAW_VALUE,\n",
        "    priority=fdl.Priority.HIGH,\n",
        "    warning_threshold=500,\n",
        "    critical_threshold=1000,\n",
        "    condition=fdl.AlertCondition.GREATER,\n",
        "    columns=['TotalCharges'],\n",
        ")\n",
        "\n",
        "alert_rule_1.create()\n",
        "print(\n",
        "    f'New alert rule created with id = {alert_rule_1.id} and name = {alert_rule_1.name}'\n",
        ")\n",
        "\n",
        "# Set notification configuration for the alert rule, a single email address for this simple example\n",
        "alert_rule_1.set_notification_config(emails=['name@google.com'])"
      ]
    },
    {
      "cell_type": "markdown",
      "metadata": {
        "id": "xb1Zr4zj6sxN"
      },
      "source": [
        "Let's add a second alert rule.\n",
        "\n",
        "This one sets up a Performance type rule which triggers an email notification when precision metric is 5% higher than that from 1 hr bin one day ago."
      ]
    },
    {
      "cell_type": "code",
      "execution_count": 28,
      "metadata": {
        "id": "XFfixd43GzBS",
        "colab": {
          "base_uri": "https://localhost:8080/"
        },
        "outputId": "f9546f91-a8fb-4978-ad41-672bd53b6dd6"
      },
      "outputs": [
        {
          "output_type": "stream",
          "name": "stdout",
          "text": [
            "New alert rule created with id = 510e27b9-d6a5-4103-b29b-a4ae891b0a06 and name = Telco Churn Performance Alert\n"
          ]
        },
        {
          "output_type": "execute_result",
          "data": {
            "text/plain": [
              "NotificationConfig(emails=['name@google.com'], pagerduty_services=[], pagerduty_severity='', webhooks=[])"
            ]
          },
          "metadata": {},
          "execution_count": 28
        }
      ],
      "source": [
        "alert_rule_2 = fdl.AlertRule(\n",
        "    name='Telco Churn Performance Alert',\n",
        "    model_id=model.id,\n",
        "    metric_id='precision',\n",
        "    bin_size=fdl.BinSize.HOUR,\n",
        "    compare_to=fdl.CompareTo.TIME_PERIOD,\n",
        "    compare_bin_delta=24,  # Multiple of the bin size\n",
        "    condition=fdl.AlertCondition.GREATER,\n",
        "    warning_threshold=0.05,\n",
        "    critical_threshold=0.1,\n",
        "    priority=fdl.Priority.HIGH,\n",
        ")\n",
        "\n",
        "alert_rule_2.create()\n",
        "print(\n",
        "    f'New alert rule created with id = {alert_rule_2.id} and name = {alert_rule_2.name}'\n",
        ")\n",
        "\n",
        "# Set notification configuration for the alert rule, a single email address for this simple example\n",
        "alert_rule_2.set_notification_config(emails=['name@google.com'])"
      ]
    },
    {
      "cell_type": "markdown",
      "metadata": {
        "id": "GZNJ5NNm5vnA"
      },
      "source": [
        "## 7. Create a Custom Metric (Optional)\n",
        "\n",
        "Fiddler's [Custom Metrics](https://docs.fiddler.ai/technical-reference/api-methods-30#custom-metrics) feature enables user-defined formulas for custom metrics.  Custom metrics will be tracked over time and can be used in Charts and Alerts just like the many out of the box metrics provided by Fiddler.  Custom metrics can also be managed in the Fiddler UI.\n",
        "\n",
        "Please refer to [our documentation](https://docs.fiddler.ai/product-guide/monitoring-platform/custom-metrics) for more information on Custom Metrics.\n",
        "\n",
        "---\n",
        "  \n",
        "Let's create an example custom metric."
      ]
    },
    {
      "cell_type": "code",
      "execution_count": 29,
      "metadata": {
        "id": "J7uza2kwjos9",
        "colab": {
          "base_uri": "https://localhost:8080/"
        },
        "outputId": "2ff334ba-71d9-4437-8c3b-c55f85215426"
      },
      "outputs": [
        {
          "output_type": "stream",
          "name": "stdout",
          "text": [
            "New custom metric created with id = 73c9fd99-3518-422b-8532-03ed9c3064cc and name = Lost Revenue\n"
          ]
        }
      ],
      "source": [
        "custom_metric = fdl.CustomMetric(\n",
        "    name='Lost Revenue',\n",
        "    model_id=model.id,\n",
        "    description='A metric to track revenue lost for each false positive prediction.',\n",
        "    definition=\"\"\"sum(if(fp(),1,0) * -100)\"\"\",  # This is an excel like formula which adds -$100 for each false positive predicted by the model\n",
        ")\n",
        "\n",
        "custom_metric.create()\n",
        "print(\n",
        "    f'New custom metric created with id = {custom_metric.id} and name = {custom_metric.name}'\n",
        ")"
      ]
    },
    {
      "cell_type": "markdown",
      "metadata": {
        "id": "Z47Kx5Iujos9"
      },
      "source": [
        "## 8. Create a Segment (Optional)\n",
        "Fiddler's [Segment API](https://docs.fiddler.ai/technical-reference/api-methods-30#segments) enables defining named cohorts/sub-segments in your production data. These segments can be tracked over time, added to charts, and alerted upon. Segments can also be managed in the Fiddler UI.\n",
        "\n",
        "Please refer to our [documentation](https://docs.fiddler.ai/product-guide/monitoring-platform/segments) for more information on the creation and management of segments.\n",
        "\n",
        "Let's create a segment to track customers from Hawaii for a specific age range."
      ]
    },
    {
      "cell_type": "code",
      "execution_count": 30,
      "metadata": {
        "id": "oZ1iE8wqjos-",
        "colab": {
          "base_uri": "https://localhost:8080/"
        },
        "outputId": "2b4abf3d-9199-4ca5-8104-299e1bdead3d"
      },
      "outputs": [
        {
          "output_type": "stream",
          "name": "stdout",
          "text": [
            "New segment created with id = 0b0392d0-9540-4e7a-a78e-0b05daecf2c0 and name = Senior Customers with tenure between 30 and 60\n"
          ]
        }
      ],
      "source": [
        "segment = fdl.Segment(\n",
        "    name='Senior Customers with tenure between 30 and 60',\n",
        "    model_id=model.id,\n",
        "    description='Senior Customers with tenure between 30 and 60',\n",
        "    definition=\"(tenure<60 and tenure>30) and InternetService=='DSL'\",\n",
        ")\n",
        "\n",
        "segment.create()\n",
        "print(f'New segment created with id = {segment.id} and name = {segment.name}')"
      ]
    },
    {
      "cell_type": "markdown",
      "metadata": {
        "id": "PS-vjL_7GzBS"
      },
      "source": [
        "## 9. Publish a Static Baseline (Optional)"
      ]
    },
    {
      "cell_type": "markdown",
      "metadata": {
        "id": "HuK1LKQnGzBS"
      },
      "source": [
        "Since Fiddler already knows how to process data for your model, we can now add a **baseline dataset**.\n",
        "\n",
        "You can think of this as a static dataset which represents **\"golden data,\"** or the kind of data your model expects to receive.\n",
        "\n",
        "Then, once we start sending production data to Fiddler, you'll be able to see **drift scores** telling you whenever it starts to diverge from this static baseline.\n",
        "\n",
        "***\n",
        "\n",
        "Let's publish our **original data sample** as a pre-production dataset and then explicitly create a baseline from it.\n",
        "\n",
        "**Note:** As of recent updates, baseline creation is now a separate, explicit step after uploading pre-production data. This gives you more control over when and how baselines are created.\n",
        "\n",
        "\n",
        "*For more information on how to design your baseline dataset, [click here](https://docs.fiddler.ai/technical-reference/python-client-guides/publishing-production-data/creating-a-baseline-dataset).*"
      ]
    },
    {
      "cell_type": "code",
      "execution_count": 31,
      "metadata": {
        "id": "LDGMh8B4GzBT",
        "colab": {
          "base_uri": "https://localhost:8080/"
        },
        "outputId": "d7802b47-3182-46d1-ee18-c8dbf153a355"
      },
      "outputs": [
        {
          "output_type": "stream",
          "name": "stdout",
          "text": [
            "Initiated pre-production environment data upload with Job ID = c4b8afa0-2b2d-4916-9f95-ef742adcabb9\n"
          ]
        }
      ],
      "source": [
        "# Upload the pre-production data to make it available as a baseline\n",
        "baseline_publish_job = model.publish(\n",
        "    source=sample_data_df,\n",
        "    environment=fdl.EnvType.PRE_PRODUCTION,\n",
        "    dataset_name=STATIC_BASELINE_NAME,\n",
        ")\n",
        "print(\n",
        "    f'Initiated pre-production environment data upload with Job ID = {baseline_publish_job.id}'\n",
        ")\n",
        "\n",
        "# Uncomment the line below to wait for the job to finish, otherwise it will run in the background.\n",
        "# You can check the status on the Jobs page in the Fiddler UI or use the job ID to query the job status via the API.\n",
        "# baseline_publish_job.wait()"
      ]
    },
    {
      "cell_type": "markdown",
      "metadata": {
        "id": "0vCZERnNGzBX"
      },
      "source": [
        "Now we need to **explicitly create a baseline** from the uploaded data. This step is required as automatic baseline creation has been removed from the pre-production data upload process."
      ]
    },
    {
      "cell_type": "markdown",
      "metadata": {
        "id": "P21mz652jos9"
      },
      "source": [
        "## 10. Configure a Rolling Baseline (Optional)\n",
        "\n",
        "Fiddler also allows you to configure a baseline based on **past production data.**\n",
        "\n",
        "This means instead of looking at a static slice of data, it will look into past production events and use what it finds for drift calculation.\n",
        "\n",
        "Please refer to [our documentation](https://docs.fiddler.ai/technical-reference/python-client-guides/publishing-production-data/creating-a-baseline-dataset) for more information on Baselines.\n",
        "\n",
        "---\n",
        "  \n",
        "Let's set up a rolling baseline that will allow us to calculate drift relative to production data from 1 week back."
      ]
    },
    {
      "cell_type": "code",
      "execution_count": 32,
      "metadata": {
        "id": "b2Fv0N3tjos9",
        "colab": {
          "base_uri": "https://localhost:8080/"
        },
        "outputId": "4ffc2604-fa3b-47f0-f082-d3fd66e39e21"
      },
      "outputs": [
        {
          "output_type": "stream",
          "name": "stdout",
          "text": [
            "New rolling baseline created with id = 2674bf1f-9fc2-4f73-b2a1-5889eab146c7 and name = rolling_baseline_1week\n"
          ]
        }
      ],
      "source": [
        "rolling_baseline = fdl.Baseline(\n",
        "    model_id=model.id,\n",
        "    name=ROLLING_BASELINE_NAME,\n",
        "    type_=fdl.BaselineType.ROLLING,\n",
        "    environment=fdl.EnvType.PRODUCTION,\n",
        "    window_bin_size=fdl.WindowBinSize.DAY,  # Size of the sliding window\n",
        "    offset_delta=7,  # How far back to set our window (multiple of window_bin_size)\n",
        ")\n",
        "\n",
        "rolling_baseline.create()\n",
        "print(\n",
        "    f'New rolling baseline created with id = {rolling_baseline.id} and name = {rolling_baseline.name}'\n",
        ")"
      ]
    },
    {
      "cell_type": "markdown",
      "metadata": {
        "id": "1BKLkIgPjos-"
      },
      "source": [
        "## 11. Publish Production Events\n",
        "\n",
        "Finally, let's send in some production data!\n",
        "\n",
        "\n",
        "Fiddler will **monitor this data and compare it to your baseline to generate powerful insights into how your model is behaving**.\n",
        "\n",
        "\n",
        "---\n",
        "\n",
        "\n",
        "Each record sent to Fiddler is called **an event**.\n",
        "  \n",
        "Let's load some sample events from a CSV file."
      ]
    },
    {
      "cell_type": "code",
      "execution_count": 34,
      "metadata": {
        "id": "1dmA8PP7GTdJ",
        "colab": {
          "base_uri": "https://localhost:8080/",
          "height": 211
        },
        "outputId": "e976881e-c668-4d49-b6ef-69f0e7909625"
      },
      "outputs": [
        {
          "output_type": "error",
          "ename": "NameError",
          "evalue": "name 'PATH_TO_EVENTS_CSV' is not defined",
          "traceback": [
            "\u001b[0;31m---------------------------------------------------------------------------\u001b[0m",
            "\u001b[0;31mNameError\u001b[0m                                 Traceback (most recent call last)",
            "\u001b[0;32m/tmp/ipython-input-1153032787.py\u001b[0m in \u001b[0;36m<cell line: 0>\u001b[0;34m()\u001b[0m\n\u001b[0;32m----> 1\u001b[0;31m \u001b[0mproduction_data_df\u001b[0m \u001b[0;34m=\u001b[0m \u001b[0mpd\u001b[0m\u001b[0;34m.\u001b[0m\u001b[0mread_csv\u001b[0m\u001b[0;34m(\u001b[0m\u001b[0mPATH_TO_EVENTS_CSV\u001b[0m\u001b[0;34m)\u001b[0m\u001b[0;34m\u001b[0m\u001b[0;34m\u001b[0m\u001b[0m\n\u001b[0m\u001b[1;32m      2\u001b[0m \u001b[0;34m\u001b[0m\u001b[0m\n\u001b[1;32m      3\u001b[0m \u001b[0;31m# Shift the timestamps of the production events to be as recent as today\u001b[0m\u001b[0;34m\u001b[0m\u001b[0;34m\u001b[0m\u001b[0m\n\u001b[1;32m      4\u001b[0m production_data_df['tenure'] = production_data_df['tenure'] + (\n\u001b[1;32m      5\u001b[0m     \u001b[0mint\u001b[0m\u001b[0;34m(\u001b[0m\u001b[0mtime\u001b[0m\u001b[0;34m.\u001b[0m\u001b[0mtime\u001b[0m\u001b[0;34m(\u001b[0m\u001b[0;34m)\u001b[0m \u001b[0;34m*\u001b[0m \u001b[0;36m1000\u001b[0m\u001b[0;34m)\u001b[0m \u001b[0;34m-\u001b[0m \u001b[0mproduction_data_df\u001b[0m\u001b[0;34m[\u001b[0m\u001b[0;34m'tenure'\u001b[0m\u001b[0;34m]\u001b[0m\u001b[0;34m.\u001b[0m\u001b[0mmax\u001b[0m\u001b[0;34m(\u001b[0m\u001b[0;34m)\u001b[0m\u001b[0;34m\u001b[0m\u001b[0;34m\u001b[0m\u001b[0m\n",
            "\u001b[0;31mNameError\u001b[0m: name 'PATH_TO_EVENTS_CSV' is not defined"
          ]
        }
      ],
      "source": [
        "production_data_df = pd.read_csv(PATH_TO_EVENTS_CSV)\n",
        "\n",
        "# Shift the timestamps of the production events to be as recent as today\n",
        "production_data_df['tenure'] = production_data_df['tenure'] + (\n",
        "    int(time.time() * 1000) - production_data_df['tenure'].max()\n",
        ")\n",
        "production_data_df"
      ]
    },
    {
      "cell_type": "code",
      "execution_count": null,
      "metadata": {
        "id": "TI-gqrMmhEOe"
      },
      "outputs": [],
      "source": [
        "production_publish_job = model.publish(production_data_df)\n",
        "\n",
        "print(\n",
        "    f'Initiated production environment data upload with Job ID = {production_publish_job.id}'\n",
        ")\n",
        "\n",
        "# Uncomment the line below to wait for the job to finish, otherwise it will run in the background.\n",
        "# You can check the status on the Jobs page in the Fiddler UI or use the job ID to query the job status via the API.\n",
        "# production_publish_job.wait()"
      ]
    },
    {
      "cell_type": "markdown",
      "metadata": {
        "id": "vR6IR8YNHgG1"
      },
      "source": [
        "# Get Insights\n",
        "  \n",
        "Return to your Fiddler environment to get enhanced observability into your model's performance."
      ]
    },
    {
      "cell_type": "markdown",
      "metadata": {
        "id": "-DZMVHAEBzC_"
      },
      "source": [
        "<table>\n",
        "    <tr>\n",
        "        <td>\n",
        "            <img src=\"https://raw.githubusercontent.com/fiddler-labs/fiddler-examples/main/quickstart/images/simple_monitoring_5.png\" />\n",
        "        </td>\n",
        "    </tr>\n",
        "</table>"
      ]
    },
    {
      "cell_type": "markdown",
      "metadata": {
        "id": "Jdkj1eHgOTAO"
      },
      "source": [
        "**What's Next?**\n",
        "\n",
        "Try the [LLM Monitoring - Quick Start Notebook](https://docs.fiddler.ai/tutorials-and-quick-starts/llm-and-genai/simple-llm-monitoring)\n",
        "\n",
        "---\n",
        "\n",
        "\n",
        "**Questions?**  \n",
        "  \n",
        "Check out [our docs](https://docs.fiddler.ai/) for a more detailed explanation of what Fiddler has to offer."
      ]
    }
  ],
  "metadata": {
    "colab": {
      "provenance": [],
      "include_colab_link": true
    },
    "kernelspec": {
      "display_name": "Python 3",
      "language": "python",
      "name": "python3"
    },
    "language_info": {
      "codemirror_mode": {
        "name": "ipython",
        "version": 3
      },
      "file_extension": ".py",
      "mimetype": "text/x-python",
      "name": "python",
      "nbconvert_exporter": "python",
      "pygments_lexer": "ipython3",
      "version": "3.10.13"
    }
  },
  "nbformat": 4,
  "nbformat_minor": 0
}